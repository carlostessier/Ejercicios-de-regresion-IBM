{
 "cells": [
  {
   "cell_type": "markdown",
   "id": "026fe49f-0be4-4037-902c-01618d9d98ad",
   "metadata": {},
   "source": [
    "<p style=\"text-align:center\">\n",
    "    <a href=\"https://skills.network\" target=\"_blank\">\n",
    "    <img src=\"https://cf-courses-data.s3.us.cloud-object-storage.appdomain.cloud/assets/logos/SN_web_lightmode.png\" width=\"200\" alt=\"Skills Network Logo\">\n",
    "    </a>\n",
    "</p>\n",
    "\n",
    "\n",
    "# Análisis de Regresión No Lineal\n",
    "\n",
    "Tiempo estimado: **20 minutos**\n",
    "\n",
    "---\n",
    "\n",
    "## Objetivos\n",
    "\n",
    "Después de completar este laboratorio, podrás:\n",
    "\n",
    "* Diferenciar entre **regresión lineal** y **regresión no lineal**.\n",
    "* Utilizar un **modelo de regresión no lineal** en Python.\n"
   ]
  },
  {
   "cell_type": "markdown",
   "id": "15a65d32-f83b-441e-9b17-31ba4e2e5dc2",
   "metadata": {},
   "source": [
    "Si los datos muestran una **tendencia curva**, la **regresión lineal** no ofrecerá resultados muy precisos en comparación con una **regresión no lineal**, ya que la regresión lineal **presupone una relación lineal** entre las variables.\n",
    "\n",
    "Vamos a aprender sobre las **regresiones no lineales** y aplicar un ejemplo en Python.\n",
    "En este notebook ajustaremos un modelo no lineal a los puntos de datos correspondientes al **PIB de China** entre **1960 y 2014**."
   ]
  },
  {
   "cell_type": "markdown",
   "id": "73cb29ed-e8ec-4921-ac53-166595235341",
   "metadata": {},
   "source": [
    "<h2 id=\"importing_libraries\">Importación de librerías necesarias</h2>\n"
   ]
  },
  {
   "cell_type": "code",
   "execution_count": null,
   "id": "ec4a49ee-e991-484b-a702-58664e2eee53",
   "metadata": {},
   "outputs": [],
   "source": [
    "import numpy as np\n",
    "import matplotlib.pyplot as plt\n",
    "%matplotlib inline"
   ]
  },
  {
   "cell_type": "markdown",
   "id": "e1ce1959-66c9-424d-9e69-202597a1737d",
   "metadata": {},
   "source": [
    "Aunque la **regresión lineal** puede modelar adecuadamente algunos conjuntos de datos, **no puede aplicarse a todos**.\n",
    "Recordemos que la regresión lineal modela la relación lineal entre una variable dependiente (y) y una o varias variables independientes (x).\n",
    "Su ecuación es de **grado 1**, por ejemplo:\n",
    "$$ y = 2x + 3 $$"
   ]
  },
  {
   "cell_type": "code",
   "execution_count": null,
   "id": "1ce23c2d-f16a-4dad-99a2-9b8bf259f46c",
   "metadata": {},
   "outputs": [],
   "source": [
    "x = np.arange(-5.0, 5.0, 0.1)\n",
    "\n",
    "##You can adjust the slope and intercept to verify the changes in the graph\n",
    "y = 2*(x) + 3\n",
    "y_noise = 2 * np.random.normal(size=x.size)\n",
    "ydata = y + y_noise\n",
    "#plt.figure(figsize=(8,6))\n",
    "plt.plot(x, ydata,  'bo')\n",
    "plt.plot(x,y, 'r') \n",
    "plt.ylabel('Dependent Variable')\n",
    "plt.xlabel('Independent Variable')\n",
    "plt.show()"
   ]
  },
  {
   "cell_type": "markdown",
   "id": "236b4327-37bb-4b7d-ae15-604a89ee5dc5",
   "metadata": {},
   "source": [
    "La **regresión no lineal** es un método para modelar una **relación no lineal** entre las variables independientes (x) y la variable dependiente (y).\n",
    "En esencia, cualquier relación que **no sea lineal** puede considerarse no lineal y suele representarse mediante un **polinomio de grado (k)** (la máxima potencia de (x)).\n",
    "Por ejemplo:\n",
    "\n",
    "$$ y = a x^3 + b x^2 + c x + d $$\n",
    "\n",
    "Las funciones no lineales también pueden incluir **exponenciales**, **logaritmos**, **fracciones**, etc.\n",
    "Por ejemplo:\n",
    "$$ y = \\log(x) $$\n",
    "\n",
    "Incluso podemos tener funciones más complejas, como:\n",
    "$$ y = \\log(a x^3 + b x^2 + c x + d) $$"
   ]
  },
  {
   "cell_type": "markdown",
   "id": "4cd7c4e4-ed41-4dde-a6cc-ca6f2080564e",
   "metadata": {},
   "source": [
    "A continuación, observaremos el **gráfico de una función cúbica**.\n"
   ]
  },
  {
   "cell_type": "code",
   "execution_count": null,
   "id": "4b87e01f-01dd-4866-b4de-ef40b6234338",
   "metadata": {},
   "outputs": [],
   "source": [
    "x = np.arange(-5.0, 5.0, 0.1)\n",
    "\n",
    "##You can adjust the slope and intercept to verify the changes in the graph\n",
    "y = 1*(x**3) + 1*(x**2) + 1*x + 3\n",
    "y_noise = 20 * np.random.normal(size=x.size)\n",
    "ydata = y + y_noise\n",
    "plt.plot(x, ydata,  'bo')\n",
    "plt.plot(x,y, 'r') \n",
    "plt.ylabel('Dependent Variable')\n",
    "plt.xlabel('Independent Variable')\n",
    "plt.show()"
   ]
  },
  {
   "cell_type": "markdown",
   "id": "8b87c4de-8c9a-490f-b6b5-7fc477e31932",
   "metadata": {},
   "source": [
    "Como puedes ver, esta función incluye $x^3$ and $x^2$ como variables independientes. Además, su representación gráfica **no es una línea recta** en el plano 2D, por lo que se trata de una **función no lineal**."
   ]
  },
  {
   "cell_type": "markdown",
   "id": "b6b64321-1168-467b-8e9f-54d272e46054",
   "metadata": {},
   "source": [
    "Algunos otros tipos de funciones no lineales son:\n"
   ]
  },
  {
   "cell_type": "markdown",
   "id": "112b0dad-85f3-4378-b0e2-bf0759b6f129",
   "metadata": {},
   "source": [
    "### Cuadrática\n"
   ]
  },
  {
   "cell_type": "markdown",
   "id": "31f3f05b-8a22-4b9b-8163-5ff9f10fa343",
   "metadata": {},
   "source": [
    "$$ Y = X^2 $$\n"
   ]
  },
  {
   "cell_type": "code",
   "execution_count": null,
   "id": "fe65df68-b7a4-48cf-9070-283f080dee65",
   "metadata": {},
   "outputs": [],
   "source": [
    "x = np.arange(-5.0, 5.0, 0.1)\n",
    "\n",
    "##You can adjust the slope and intercept to verify the changes in the graph\n",
    "\n",
    "y = np.power(x,2)\n",
    "y_noise = 2 * np.random.normal(size=x.size)\n",
    "ydata = y + y_noise\n",
    "plt.plot(x, ydata,  'bo')\n",
    "plt.plot(x,y, 'r') \n",
    "plt.ylabel('Dependent Variable')\n",
    "plt.xlabel('Independent Variable')\n",
    "plt.show()"
   ]
  },
  {
   "cell_type": "markdown",
   "id": "7d479697-8606-44de-8156-ded445fe2afe",
   "metadata": {},
   "source": [
    "### Exponencial\n"
   ]
  },
  {
   "cell_type": "markdown",
   "id": "8f77d83e-8240-41c7-b36b-175d8a5618ff",
   "metadata": {},
   "source": [
    "Una **función exponencial** con base (c) se define como:\n",
    "\n",
    "$$ Y = a + b c^X $$\n",
    "\n",
    "donde b ≠0, c > 0 , c ≠1, y (x) es cualquier número real.\n",
    "La **base** (c) es constante y el **exponente** (x) es una variable."
   ]
  },
  {
   "cell_type": "code",
   "execution_count": null,
   "id": "7355b113-fb6e-4d50-b99f-9133fe124b61",
   "metadata": {},
   "outputs": [],
   "source": [
    "X = np.arange(-5.0, 5.0, 0.1)\n",
    "\n",
    "##You can adjust the slope and intercept to verify the changes in the graph\n",
    "\n",
    "Y= np.exp(X)\n",
    "\n",
    "plt.plot(X,Y) \n",
    "plt.ylabel('Dependent Variable')\n",
    "plt.xlabel('Independent Variable')\n",
    "plt.show()"
   ]
  },
  {
   "cell_type": "markdown",
   "id": "cf97d373-4d2b-4425-8c69-c4873d4b7254",
   "metadata": {},
   "source": [
    "### Logarítmica\n",
    "\n",
    "La respuesta (y) resulta de aplicar el **mapa logarítmico** desde la entrada (x) hasta la salida (y).\n",
    "Es una de las formas más simples de la función logarítmica:\n",
    "\n",
    "$$ y = \\log(x) $$\n",
    "\n",
    "Cabe señalar que, en lugar de (x), podemos utilizar (X), que puede ser una representación polinómica de los valores de (x).\n",
    "En forma general, se escribiría como:\n",
    "\n",
    "$\n",
    "y = \\log(X)\n",
    "$\n",
    "\n"
   ]
  },
  {
   "cell_type": "code",
   "execution_count": null,
   "id": "26cff054-333a-4cfc-b851-ac5aaa40cca4",
   "metadata": {},
   "outputs": [],
   "source": [
    "X = np.arange(-5.0, 5.0, 0.1)\n",
    "\n",
    "Y = np.log(X)\n",
    "\n",
    "plt.plot(X,Y) \n",
    "plt.ylabel('Dependent Variable')\n",
    "plt.xlabel('Independent Variable')\n",
    "plt.show()"
   ]
  },
  {
   "cell_type": "markdown",
   "id": "07aacb86-eafb-4f32-b827-ecbfe871ea31",
   "metadata": {},
   "source": [
    "### Sigmoidal / Logística\n"
   ]
  },
  {
   "cell_type": "markdown",
   "id": "72ca83a5-d461-4a53-b64a-8a98bd6cbccb",
   "metadata": {},
   "source": [
    "$$ Y = a + \\frac{b}{1+ c^{(X-d)}}$$\n"
   ]
  },
  {
   "cell_type": "code",
   "execution_count": null,
   "id": "2c907f44-8614-415a-88da-c3c1c88f375e",
   "metadata": {},
   "outputs": [],
   "source": [
    "X = np.arange(-5.0, 5.0, 0.1)\n",
    "\n",
    "\n",
    "Y = 1-4/(1+np.power(3, X-2))\n",
    "\n",
    "plt.plot(X,Y) \n",
    "plt.ylabel('Dependent Variable')\n",
    "plt.xlabel('Independent Variable')\n",
    "plt.show()"
   ]
  },
  {
   "cell_type": "markdown",
   "id": "bad7ea3b-3c69-45b5-85fd-ae33e4958703",
   "metadata": {},
   "source": [
    "<a id=\"ref2\"></a>\n",
    "\n",
    "# Ejemplo de regresión no lineal\n"
   ]
  },
  {
   "cell_type": "markdown",
   "id": "daff9b5c-1347-48b3-b8a7-22ac8d1a6fd5",
   "metadata": {},
   "source": [
    "Como ejemplo, intentaremos ajustar un **modelo no lineal** a los puntos de datos correspondientes al **PIB de China** desde **1960 hasta 2014**.\n",
    "El conjunto de datos contiene dos columnas:\n",
    "\n",
    "* La primera indica el **año** (entre 1960 y 2014).\n",
    "* La segunda, el **Producto Interior Bruto anual de China** en dólares estadounidenses para ese año."
   ]
  },
  {
   "cell_type": "code",
   "execution_count": null,
   "id": "55bcf34b-cbaa-4c9d-ac82-a677c4ef3b75",
   "metadata": {},
   "outputs": [],
   "source": [
    "import numpy as np\n",
    "import pandas as pd\n",
    "\n",
    "#downloading dataset\n",
    "!wget -nv -O china_gdp.csv https://cf-courses-data.s3.us.cloud-object-storage.appdomain.cloud/IBMDeveloperSkillsNetwork-ML0101EN-SkillsNetwork/labs/Module%202/data/china_gdp.csv\n",
    "    \n",
    "df = pd.read_csv(\"china_gdp.csv\")\n",
    "df.head(10)"
   ]
  },
  {
   "cell_type": "markdown",
   "id": "6fe1e13f-dfd6-496b-b3c0-87529652c606",
   "metadata": {},
   "source": [
    "### Representación del conjunto de datos\n",
    "\n",
    "Así es como se ven los puntos de datos.\n",
    "Parece una **función logística o exponencial**: el crecimiento comienza de forma **lenta**, luego a partir de **2005** se vuelve **muy pronunciado**, y finalmente **se desacelera ligeramente** durante la década de **2010**."
   ]
  },
  {
   "cell_type": "code",
   "execution_count": null,
   "id": "f1828070-d421-406e-a80c-077e2086d648",
   "metadata": {},
   "outputs": [],
   "source": [
    "plt.figure(figsize=(8,5))\n",
    "x_data, y_data = (df[\"Year\"].values, df[\"Value\"].values)\n",
    "plt.plot(x_data, y_data, 'ro')\n",
    "plt.ylabel('GDP')\n",
    "plt.xlabel('Year')\n",
    "plt.show()"
   ]
  },
  {
   "cell_type": "markdown",
   "id": "85348c47-bc3e-4762-aa6b-8f7d92e31ad0",
   "metadata": {},
   "source": [
    "### Elección de un modelo\n",
    "\n",
    "A partir de una primera observación del gráfico, determinamos que la función logística podría ser una buena aproximación, ya que tiene la propiedad de comenzar con un crecimiento lento, aumentar su crecimiento en la parte media y luego disminuir nuevamente al final; como se ilustra a continuación:\n"
   ]
  },
  {
   "cell_type": "code",
   "execution_count": null,
   "id": "18f5385e-1c27-4ccc-96b2-604fc3e17275",
   "metadata": {},
   "outputs": [],
   "source": [
    "X = np.arange(-5.0, 5.0, 0.1)\n",
    "Y = 1.0 / (1.0 + np.exp(-X))\n",
    "\n",
    "plt.plot(X,Y) \n",
    "plt.ylabel('Dependent Variable')\n",
    "plt.xlabel('Independent Variable')\n",
    "plt.show()"
   ]
  },
  {
   "cell_type": "markdown",
   "id": "086e1ee6-a705-4c6b-90dc-da384602a94e",
   "metadata": {},
   "source": [
    "La fórmula de la función logística es la siguiente:\n",
    "\n",
    "$$ \\hat{Y} = \\frac1{1+e^{-\\beta_1(X-\\beta_2)}}$$\n",
    "\n",
    "$\\beta_1$: Controla la pendiente de la curva.\n",
    "\n",
    "$\\beta_2$: Desplaza la curva a lo largo del eje x.\n"
   ]
  },
  {
   "cell_type": "markdown",
   "id": "8cecf20c-876b-4db5-9f5b-52db82f19059",
   "metadata": {},
   "source": [
    "### Construcción del modelo\n",
    "\n",
    "Ahora, construyamos nuestro modelo de regresión e inicialicemos sus parámetros."
   ]
  },
  {
   "cell_type": "code",
   "execution_count": null,
   "id": "ee4d2443-ea9a-455f-b276-89844e5dc980",
   "metadata": {},
   "outputs": [],
   "source": [
    "def sigmoid(x, Beta_1, Beta_2):\n",
    "     y = 1 / (1 + np.exp(-Beta_1*(x-Beta_2)))\n",
    "     return y"
   ]
  },
  {
   "cell_type": "markdown",
   "id": "968a3821-b9c0-4987-afc8-70b9dc9b4ffc",
   "metadata": {},
   "source": [
    "Veamos un ejemplo de una línea sigmoide que podría ajustarse a los datos:"
   ]
  },
  {
   "cell_type": "code",
   "execution_count": null,
   "id": "f2b34c74-2538-498c-bda1-c85850ca40f6",
   "metadata": {},
   "outputs": [],
   "source": [
    "beta_1 = 0.10\n",
    "beta_2 = 1990.0\n",
    "\n",
    "#logistic function\n",
    "Y_pred = sigmoid(x_data, beta_1 , beta_2)\n",
    "\n",
    "#plot initial prediction against datapoints\n",
    "plt.plot(x_data, Y_pred*15000000000000.)\n",
    "plt.plot(x_data, y_data, 'ro')"
   ]
  },
  {
   "cell_type": "markdown",
   "id": "ef95d303-dfab-4b5d-bb62-c4c6c44324b1",
   "metadata": {},
   "source": [
    "Nuestra tarea aquí es encontrar los mejores parámetros para nuestro modelo.\n",
    "Primero, normalicemos nuestras variables x e y:"
   ]
  },
  {
   "cell_type": "code",
   "execution_count": null,
   "id": "70e008ef-dd72-49f4-a7cb-8db947fddea3",
   "metadata": {},
   "outputs": [],
   "source": [
    "# Lets normalize our data\n",
    "xdata =x_data/max(x_data)\n",
    "ydata =y_data/max(y_data)"
   ]
  },
  {
   "cell_type": "markdown",
   "id": "c27fdd1d-6f05-4709-bb60-5c4e3b84c274",
   "metadata": {},
   "source": [
    "#### ¿Cómo encontramos los mejores parámetros para nuestra línea de ajuste?\n",
    "\n",
    "Podemos usar **curve_fit**, que utiliza el método de *mínimos cuadrados no lineales* para ajustar nuestra función sigmoide a los datos. Este método optimiza los valores de los parámetros de manera que la suma de los residuos al cuadrado de `sigmoid(xdata, *popt) - ydata` sea mínima.\n",
    "\n",
    "`popt` son nuestros parámetros optimizados."
   ]
  },
  {
   "cell_type": "code",
   "execution_count": null,
   "id": "9ddc57d3-6b9e-4fc5-85c0-751ec77f8970",
   "metadata": {},
   "outputs": [],
   "source": [
    "from scipy.optimize import curve_fit\n",
    "popt, pcov = curve_fit(sigmoid, xdata, ydata)\n",
    "#print the final parameters\n",
    "print(\" beta_1 = %f, beta_2 = %f\" % (popt[0], popt[1]))"
   ]
  },
  {
   "cell_type": "markdown",
   "id": "6c52cfbd-921d-4ede-97e0-d279fc41db5e",
   "metadata": {},
   "source": [
    "Luego, representamos gráficamente el modelo de regresión resultante."
   ]
  },
  {
   "cell_type": "code",
   "execution_count": null,
   "id": "7fb670ef-ed6e-4bb7-afc9-b29ca83ff264",
   "metadata": {},
   "outputs": [],
   "source": [
    "x = np.linspace(1960, 2015, 55)\n",
    "x = x/max(x)\n",
    "plt.figure(figsize=(8,5))\n",
    "y = sigmoid(x, *popt)\n",
    "plt.plot(xdata, ydata, 'ro', label='data')\n",
    "plt.plot(x,y, linewidth=3.0, label='fit')\n",
    "plt.legend(loc='best')\n",
    "plt.ylabel('GDP')\n",
    "plt.xlabel('Year')\n",
    "plt.show()"
   ]
  },
  {
   "cell_type": "markdown",
   "id": "0f56ad38-27a5-4458-a277-6ce6f9390582",
   "metadata": {},
   "source": [
    "## Práctica\n",
    "\n",
    "¿Puedes calcular cuál es la **precisión** de nuestro modelo?"
   ]
  },
  {
   "cell_type": "code",
   "execution_count": null,
   "id": "0d60489d-5693-46e2-af19-b1a78feab0a1",
   "metadata": {},
   "outputs": [],
   "source": [
    "# write your code here\n",
    "\n",
    "\n"
   ]
  },
  {
   "cell_type": "markdown",
   "id": "1914ffa8-f8db-490a-a821-7f57c398362b",
   "metadata": {},
   "source": [
    "\n",
    "**IBM SPSS Modeler** es una plataforma de analítica integral que incluye numerosos algoritmos de aprendizaje automático. Está diseñada para aportar inteligencia predictiva a las decisiones tomadas por individuos, grupos, sistemas o por toda la organización.\n",
    "Puedes acceder a una versión de prueba gratuita desde este curso:\n",
    "👉 [SPSS Modeler](https://www.ibm.com/analytics/spss-statistics-software?utm_source=skills_network&utm_content=in_lab_content_link&utm_id=Lab-IBMDeveloperSkillsNetwork-ML0101EN-SkillsNetwork)\n",
    "\n",
    "También puedes usar **Watson Studio** para ejecutar estos notebooks más rápido y con conjuntos de datos más grandes. Watson Studio es la solución en la nube líder de IBM para científicos de datos, creada por científicos de datos.\n",
    "Con Jupyter Notebooks, RStudio, Apache Spark y bibliotecas populares ya integradas en la nube, Watson Studio permite colaborar en proyectos sin necesidad de instalar nada.\n",
    "Únete hoy a la comunidad de Watson Studio con una cuenta gratuita:\n",
    "👉 [Watson Studio](https://www.ibm.com/cloud/watson-studio?utm_source=skills_network&utm_content=in_lab_content_link&utm_id=Lab-IBMDeveloperSkillsNetwork-ML0101EN-SkillsNetwork)\n"
   ]
  },
  {
   "cell_type": "markdown",
   "id": "98fa8c61-6330-4942-b756-abb84862c94c",
   "metadata": {},
   "source": [
    "\n",
    "### ¡Gracias por completar este laboratorio!\n",
    "\n",
    "---\n",
    "\n",
    "## Autor\n",
    "\n",
    "**Saeed Aghabozorgi**\n",
    "\n",
    "### Otros colaboradores\n",
    "\n",
    "<a href=\"https://www.linkedin.com/in/joseph-s-50398b136/\" target=\"_blank\">Joseph Santarcangelo</a>\n",
    "\n",
    "### Traducción\n",
    "\n",
    "<a href=\"https://www.linkedin.com/in/carlostessier/\" target=\"_blank\">Carlos Tessier</a>\n",
    "\n",
    "\n",
    "---\n",
    "\n",
    "## <h3 align=\"center\"> © IBM Corporation 2025. Todos los derechos reservados. </h3>"
   ]
  }
 ],
 "metadata": {
  "kernelspec": {
   "display_name": "Python 3",
   "language": "python",
   "name": "python3"
  },
  "language_info": {
   "codemirror_mode": {
    "name": "ipython",
    "version": 3
   },
   "file_extension": ".py",
   "mimetype": "text/x-python",
   "name": "python",
   "nbconvert_exporter": "python",
   "pygments_lexer": "ipython3",
   "version": "3.11.11"
  },
  "prev_pub_hash": "f873d3177bf529d2d648c46bab1627042a257e5ec6ce42ca68028520459f817e"
 },
 "nbformat": 4,
 "nbformat_minor": 4
}
