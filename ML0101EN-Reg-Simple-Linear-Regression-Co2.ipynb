{
 "cells": [
  {
   "cell_type": "markdown",
   "id": "cdae5088-14be-4782-8df5-f98087ad6557",
   "metadata": {},
   "source": [
    "<p style=\"text-align:center\">\n",
    "    <a href=\"https://skills.network\" target=\"_blank\">\n",
    "    <img src=\"https://cf-courses-data.s3.us.cloud-object-storage.appdomain.cloud/assets/logos/SN_web_lightmode.png\" width=\"200\" alt=\"Skills Network Logo\">\n",
    "    </a>\n",
    "</p>\n",
    "\n",
    "\n",
    "# Regresión Lineal Simple\n",
    "\n",
    "Tiempo estimado: **15** minutos\n",
    "\n",
    "## Objetivos\n",
    "\n",
    "Al completar este laboratorio podrás:\n",
    "\n",
    "* Usar scikit-learn para implementar una Regresión Lineal simple.\n",
    "* Crear un modelo, entrenarlo, probarlo y utilizarlo.\n"
   ]
  },
  {
   "cell_type": "markdown",
   "id": "ca2eb02e-351b-4be2-a454-0b4aeb56cfea",
   "metadata": {},
   "source": [
    "### Importando paquetes necesarios\n"
   ]
  },
  {
   "cell_type": "code",
   "execution_count": null,
   "id": "7a5d1500-d7c4-400d-abd1-882ba4e0f1b6",
   "metadata": {},
   "outputs": [],
   "source": [
    "import matplotlib.pyplot as plt\n",
    "import pandas as pd\n",
    "import pylab as pl\n",
    "import numpy as np\n",
    "%matplotlib inline"
   ]
  },
  {
   "cell_type": "markdown",
   "id": "d3ba3bad-c7a1-4c7b-a37d-50a7dd44cd5f",
   "metadata": {},
   "source": [
    "### Descargando Datos\n",
    "Para descargar los datos, usaremos !wget para descargarlos desde IBM Object Storage.\n"
   ]
  },
  {
   "cell_type": "code",
   "execution_count": null,
   "id": "af91f7f5-64b6-4be3-a4f1-33661e699b6b",
   "metadata": {},
   "outputs": [],
   "source": [
    "!wget -O FuelConsumption.csv https://cf-courses-data.s3.us.cloud-object-storage.appdomain.cloud/IBMDeveloperSkillsNetwork-ML0101EN-SkillsNetwork/labs/Module%202/data/FuelConsumptionCo2.csv"
   ]
  },
  {
   "cell_type": "markdown",
   "id": "04c3ed11-5121-44d8-a689-c25b357d1442",
   "metadata": {},
   "source": [
    "En caso de que estés trabajando **localmente**, elimina el comentario de la línea de abajo.\n"
   ]
  },
  {
   "cell_type": "code",
   "execution_count": null,
   "id": "bec61de1-1029-4f2f-8cb5-6063b5ef1981",
   "metadata": {},
   "outputs": [],
   "source": [
    "#!curl https://cf-courses-data.s3.us.cloud-object-storage.appdomain.cloud/IBMDeveloperSkillsNetwork-ML0101EN-SkillsNetwork/labs/Module%202/data/FuelConsumptionCo2.csv -o FuelConsumptionCo2.csv"
   ]
  },
  {
   "cell_type": "markdown",
   "id": "14ae1ca4-0612-4577-951d-bdc2cce42d37",
   "metadata": {},
   "source": [
    "## Entendiendo los Datos \n",
    "\n",
    "---\n",
    "\n",
    "### `FuelConsumption.csv`:\n",
    "Hemos descargado un conjunto de datos de consumo de combustible, **`FuelConsumption.csv`**, que contiene clasificaciones de consumo de combustible específicas del modelo y emisiones estimadas de dióxido de carbono para vehículos nuevos de servicio liviano para la venta al por menor en Canadá. [Fuente del conjunto de datos](http://open.canada.ca/data/en/dataset/98f1a129-f628-4ce4-b24d-6f16bf24dd64)\n",
    "\n",
    "- **MODELYEAR** (AÑO DEL MODELO) p.ej. 2014\n",
    "- **MAKE** (MARCA) p.ej. Acura\n",
    "- **MODEL** (MODELO) p.ej. ILX\n",
    "- **VEHICLE CLASS** (CLASE DE VEHÍCULO) p.ej. SUV\n",
    "- **ENGINE SIZE** (TAMAÑO DEL MOTOR) p.ej. 4.7\n",
    "- **CYLINDERS** (CILINDROS) p.ej 6\n",
    "- **TRANSMISSION** (TRANSMISIÓN) p.ej. A6\n",
    "- **FUEL CONSUMPTION in CITY(L/100 km)** (CONSUMO DE COMBUSTIBLE EN CIUDAD (L/100 km)) p.ej. 9.9\n",
    "- **FUEL CONSUMPTION in HWY (L/100 km)** (CONSUMO DE COMBUSTIBLE EN CARRETERA (L/100 km)) p.ej. 8.9\n",
    "- **FUEL CONSUMPTION COMB (L/100 km)** (CONSUMO DE COMBUSTIBLE COMBINADO (L/100 km)) p.ej. 9.2\n",
    "- **CO2 EMISSIONS (g/km)** (EMISIONES DE CO2 (g/km)) p.ej. 182   --> bajo --> 0"
   ]
  },
  {
   "cell_type": "markdown",
   "id": "ee6fd4b4-6b92-4a9f-a6b6-f5fc9bb66568",
   "metadata": {},
   "source": [
    "## Leyendo los datos \n"
   ]
  },
  {
   "cell_type": "code",
   "execution_count": null,
   "id": "bbd0c877-823c-48ba-94e1-803d3966b2f8",
   "metadata": {},
   "outputs": [],
   "source": [
    "df = pd.read_csv(\"FuelConsumption.csv\")\n",
    "\n",
    "# take a look at the dataset\n",
    "df.head()\n",
    "\n"
   ]
  },
  {
   "cell_type": "markdown",
   "id": "093cfaf4-c6a9-4769-a7bc-026a383b5df8",
   "metadata": {},
   "source": [
    "### Exploración de Datos \n",
    "Primero, realicemos una exploración descriptiva de nuestros datos.\n"
   ]
  },
  {
   "cell_type": "code",
   "execution_count": null,
   "id": "0740e0fe-71a2-4e36-8463-3c6dc8fb0860",
   "metadata": {},
   "outputs": [],
   "source": [
    "# summarize the data\n",
    "df.describe()"
   ]
  },
  {
   "cell_type": "markdown",
   "id": "9e9b0417-1c0f-4c3c-a2cf-58af56fd0be8",
   "metadata": {},
   "source": [
    "Seleccionemos algunas características para explorar más."
   ]
  },
  {
   "cell_type": "code",
   "execution_count": null,
   "id": "3f6f4333-6530-40d0-a87d-36dca3fc4d7f",
   "metadata": {},
   "outputs": [],
   "source": [
    "cdf = df[['ENGINESIZE','CYLINDERS','FUELCONSUMPTION_COMB','CO2EMISSIONS']]\n",
    "cdf.head(9)"
   ]
  },
  {
   "cell_type": "markdown",
   "id": "180f3d36-accc-46f8-b6a2-6ead28cfae9d",
   "metadata": {},
   "source": [
    "Podemos graficar cada una de estas características:"
   ]
  },
  {
   "cell_type": "code",
   "execution_count": null,
   "id": "72e8e88e-cb81-46f2-8bcc-087bf20d5376",
   "metadata": {},
   "outputs": [],
   "source": [
    "viz = cdf[['CYLINDERS','ENGINESIZE','CO2EMISSIONS','FUELCONSUMPTION_COMB']]\n",
    "viz.hist()\n",
    "plt.show()"
   ]
  },
  {
   "cell_type": "markdown",
   "id": "031b267a-f07f-4213-a521-5a6aeaefbf2e",
   "metadata": {},
   "source": [
    "Ahora, grafiquemos cada una de estas características contra la Emisión, para ver cuán **lineal** es su relación:"
   ]
  },
  {
   "cell_type": "code",
   "execution_count": null,
   "id": "fd886110-7242-476f-aefc-495a419ce2b7",
   "metadata": {},
   "outputs": [],
   "source": [
    "plt.scatter(cdf.FUELCONSUMPTION_COMB, cdf.CO2EMISSIONS,  color='blue')\n",
    "plt.xlabel(\"FUELCONSUMPTION_COMB\")\n",
    "plt.ylabel(\"Emission\")\n",
    "plt.show()"
   ]
  },
  {
   "cell_type": "code",
   "execution_count": null,
   "id": "f7d4aabb-a81b-406b-b21a-b79d36e9dc4c",
   "metadata": {},
   "outputs": [],
   "source": [
    "plt.scatter(cdf.ENGINESIZE, cdf.CO2EMISSIONS,  color='blue')\n",
    "plt.xlabel(\"Engine size\")\n",
    "plt.ylabel(\"Emission\")\n",
    "plt.show()"
   ]
  },
  {
   "cell_type": "markdown",
   "id": "d356c3c1-d7b8-4602-ac70-d9e73cda08fc",
   "metadata": {},
   "source": [
    "## Práctica \n",
    "Grafica **CILINDROS** (*CYLINDER*) vs la Emisión, para ver cuán lineal es su relación:"
   ]
  },
  {
   "cell_type": "code",
   "execution_count": null,
   "id": "cfcf1aca-46a8-4587-bc2f-f79c959a0603",
   "metadata": {},
   "outputs": [],
   "source": [
    "# write your code here\n",
    "\n",
    "\n"
   ]
  },
  {
   "cell_type": "markdown",
   "id": "8bbd3689-01a8-40f6-ab34-2937c6737457",
   "metadata": {},
   "source": [
    "#### Creando el conjunto de datos de entrenamiento y prueba\n",
    "La División de Entrenamiento/Prueba (*Train/Test Split*) consiste en dividir el conjunto de datos en conjuntos de entrenamiento y prueba que son **mutuamente excluyentes**. Después, se entrena con el conjunto de entrenamiento y se prueba con el conjunto de prueba.\n",
    "Esto proporcionará una evaluación más precisa sobre la **exactitud fuera de la muestra** (*out-of-sample accuracy*), ya que el conjunto de datos de prueba no forma parte del conjunto de datos que se ha utilizado para entrenar el modelo. Por lo tanto, nos da una mejor comprensión de qué tan bien nuestro modelo **generaliza** a nuevos datos.\n",
    "\n",
    "Esto significa que conocemos el resultado de cada punto de datos en el conjunto de prueba, ¡lo que lo hace ideal para probar! Dado que estos datos no se han utilizado para entrenar el modelo, el modelo no tiene conocimiento del resultado de estos puntos de datos. Por lo tanto, en esencia, es verdaderamente una prueba fuera de la muestra.\n",
    "\n",
    "Dividamos nuestro conjunto de datos en conjuntos de entrenamiento y prueba. El **80%** del conjunto de datos completo se utilizará para el entrenamiento y el **20%** para las pruebas. Creamos una máscara para seleccionar filas aleatorias utilizando la función **`np.random.rand()`**:"
   ]
  },
  {
   "cell_type": "code",
   "execution_count": null,
   "id": "a1659637-78ba-4a59-b75e-f37e93ad03a1",
   "metadata": {},
   "outputs": [],
   "source": [
    "msk = np.random.rand(len(df)) < 0.8\n",
    "train = cdf[msk]\n",
    "test = cdf[~msk]"
   ]
  },
  {
   "cell_type": "markdown",
   "id": "3a380231-b32d-4a02-b489-e6ec8a8af066",
   "metadata": {},
   "source": [
    "### Modelo de Regresión Simple\n",
    "La Regresión Lineal ajusta un modelo lineal con coeficientes $\\beta = (\\beta_1, ..., \\beta_n)$ para **minimizar la 'suma residual de cuadrados'** entre el valor real $y$ en el conjunto de datos, y el valor predicho $\\hat{y}$ utilizando una aproximación lineal."
   ]
  },
  {
   "cell_type": "markdown",
   "id": "8b13b80a-ce4e-4b57-9efa-d019f3828b72",
   "metadata": {},
   "source": [
    "#### Distribución de los datos de entrenamiento"
   ]
  },
  {
   "cell_type": "code",
   "execution_count": null,
   "id": "d4c185aa-cefe-4cc9-ab0e-3677decbda40",
   "metadata": {},
   "outputs": [],
   "source": [
    "plt.scatter(train.ENGINESIZE, train.CO2EMISSIONS,  color='blue')\n",
    "plt.xlabel(\"Engine size\")\n",
    "plt.ylabel(\"Emission\")\n",
    "plt.show()"
   ]
  },
  {
   "cell_type": "markdown",
   "id": "d16c2564-4a08-4c6c-9023-dd12dcd6e19b",
   "metadata": {},
   "source": [
    "#### Modelado \n",
    "Utilizando el paquete **sklearn** para modelar los datos."
   ]
  },
  {
   "cell_type": "code",
   "execution_count": null,
   "id": "9a15c7af-d421-4f1c-9e7d-6c8083d73c4f",
   "metadata": {},
   "outputs": [],
   "source": [
    "from sklearn import linear_model\n",
    "regr = linear_model.LinearRegression()\n",
    "train_x = np.asanyarray(train[['ENGINESIZE']])\n",
    "train_y = np.asanyarray(train[['CO2EMISSIONS']])\n",
    "regr.fit(train_x, train_y)\n",
    "# The coefficients\n",
    "print ('Coefficients: ', regr.coef_)\n",
    "print ('Intercept: ',regr.intercept_)"
   ]
  },
  {
   "cell_type": "markdown",
   "id": "8e2de360-b3ee-4eeb-b90a-df8ca408a6d6",
   "metadata": {},
   "source": [
    "Como se mencionó antes, el **Coeficiente** y el **Intercepto** en la regresión lineal simple, son los parámetros de la línea de ajuste.\n",
    "Dado que es una regresión lineal simple, con solo 2 parámetros, y sabiendo que los parámetros son el intercepto y la pendiente de la línea, sklearn puede estimarlos directamente a partir de nuestros datos.\n",
    "Observa que todos los datos deben estar disponibles para recorrerlos y calcular los parámetros."
   ]
  },
  {
   "cell_type": "markdown",
   "id": "46f7a627-2c22-43d4-9ab4-347809724209",
   "metadata": {},
   "source": [
    "#### Gráficos de salida"
   ]
  },
  {
   "cell_type": "markdown",
   "id": "4df0c09a-fe62-4e9f-9128-64c714caad17",
   "metadata": {},
   "source": [
    "Podemos graficar la línea de ajuste sobre los datos:"
   ]
  },
  {
   "cell_type": "code",
   "execution_count": null,
   "id": "0af9d41c-d72c-4e72-8d1c-d15beef87504",
   "metadata": {},
   "outputs": [],
   "source": [
    "plt.scatter(train.ENGINESIZE, train.CO2EMISSIONS,  color='blue')\n",
    "plt.plot(train_x, regr.coef_[0][0]*train_x + regr.intercept_[0], '-r')\n",
    "plt.xlabel(\"Engine size\")\n",
    "plt.ylabel(\"Emission\")"
   ]
  },
  {
   "cell_type": "markdown",
   "id": "788d474e-4a1a-4b45-b4c0-f320ee47f9b9",
   "metadata": {},
   "source": [
    "#### Evaluación \n",
    "Comparamos los valores reales y los valores predichos para calcular la **precisión** de un modelo de regresión. Las métricas de evaluación desempeñan un papel clave en el desarrollo de un modelo, ya que proporcionan información sobre las áreas que requieren mejora.\n",
    "\n",
    "Existen diferentes métricas de evaluación de modelos; usemos **MSE** aquí para calcular la precisión de nuestro modelo basándonos en el conjunto de prueba:\n",
    "\n",
    "* **Error Absoluto Medio (*Mean Absolute Error - MAE*)**: Es la media del valor absoluto de los errores. Esta es la métrica más fácil de entender ya que es simplemente el error promedio.\n",
    "\n",
    "* **Error Cuadrático Medio (*Mean Squared Error - MSE*)**: El Error Cuadrático Medio (MSE) es la media del error al cuadrado. Es más popular que el Error Absoluto Medio porque la atención se centra más en los errores grandes. Esto se debe a que el término al cuadrado aumenta exponencialmente los errores mayores en comparación con los más pequeños.\n",
    "\n",
    "* **Raíz del Error Cuadrático Medio (*Root Mean Squared Error - RMSE*)**.\n",
    "\n",
    "* **R-cuadrado (*R-squared*)** no es un error, sino una métrica popular para medir el **rendimiento** de tu modelo de regresión. Representa cuán cerca están los puntos de datos de la línea de regresión ajustada. Cuanto mayor sea el valor de R-cuadrado, mejor se ajusta el modelo a tus datos. La mejor puntuación posible es **1.0** y puede ser negativa (porque el modelo puede ser arbitrariamente peor)."
   ]
  },
  {
   "cell_type": "code",
   "execution_count": null,
   "id": "310e1c13-d5e6-4f71-8e46-409493fca97f",
   "metadata": {},
   "outputs": [],
   "source": [
    "from sklearn.metrics import r2_score\n",
    "\n",
    "test_x = np.asanyarray(test[['ENGINESIZE']])\n",
    "test_y = np.asanyarray(test[['CO2EMISSIONS']])\n",
    "test_y_ = regr.predict(test_x)\n",
    "\n",
    "print(\"Mean absolute error: %.2f\" % np.mean(np.absolute(test_y_ - test_y)))\n",
    "print(\"Residual sum of squares (MSE): %.2f\" % np.mean((test_y_ - test_y) ** 2))\n",
    "print(\"R2-score: %.2f\" % r2_score(test_y , test_y_) )"
   ]
  },
  {
   "cell_type": "markdown",
   "id": "583192f7-c166-4118-bf95-37230f860d83",
   "metadata": {},
   "source": [
    "## Ejercicio\n"
   ]
  },
  {
   "cell_type": "markdown",
   "id": "c05cf99d-fe20-4ad1-8de4-318d59986842",
   "metadata": {},
   "source": [
    "Veamos cuáles son las métricas de evaluación si entrenamos un modelo de regresión utilizando la característica **`FUELCONSUMPTION_COMB`**.\n",
    "\n",
    "Comienza seleccionando **`FUELCONSUMPTION_COMB`** como los datos de `train_x` del *dataframe* `train`, luego selecciona **`FUELCONSUMPTION_COMB`** como los datos de `test_x` del *dataframe* `test`."
   ]
  },
  {
   "cell_type": "code",
   "execution_count": null,
   "id": "644c31f4-e208-4ff4-acf2-8958675e95f5",
   "metadata": {},
   "outputs": [],
   "source": [
    "train_x = #ADD CODE\n",
    "\n",
    "test_x = #ADD CODE"
   ]
  },
  {
   "cell_type": "markdown",
   "id": "3badfd3a-40f7-4724-92c3-434ac50d70e7",
   "metadata": {},
   "source": [
    "Ahora entrena un **Modelo de Regresión Lineal** utilizando el `train_x` que creaste y el `train_y` creado previamente."
   ]
  },
  {
   "cell_type": "code",
   "execution_count": null,
   "id": "020c2eef-1c03-4734-8c63-94f0ebbe2ad6",
   "metadata": {},
   "outputs": [],
   "source": [
    "regr = linear_model.LinearRegression()\n",
    "\n",
    "#ADD CODE\n"
   ]
  },
  {
   "cell_type": "markdown",
   "id": "3d798d99-f799-48bc-9d51-ebb5e4a0f40e",
   "metadata": {},
   "source": [
    "Encuentra las predicciones usando la función **`predict`** del modelo y los datos de `test_x`."
   ]
  },
  {
   "cell_type": "code",
   "execution_count": null,
   "id": "178f5595-7e7e-475d-bebe-06c4f1362d02",
   "metadata": {},
   "outputs": [],
   "source": [
    "predictions = #ADD CODE"
   ]
  },
  {
   "cell_type": "markdown",
   "id": "8302b407-7b49-4729-a609-eeb52675690d",
   "metadata": {},
   "source": [
    "Finalmente, utiliza las **`predictions`** y los datos de `test_y` y encuentra el valor del **Error Absoluto Medio (MAE)** usando las funciones **`np.absolute`** y **`np.mean`**, como se hizo anteriormente."
   ]
  },
  {
   "cell_type": "code",
   "execution_count": null,
   "id": "8782835c-8b38-4154-8301-3b01317069d6",
   "metadata": {},
   "outputs": [],
   "source": [
    "#ADD CODE\n"
   ]
  },
  {
   "cell_type": "markdown",
   "id": "318b3052-9595-4952-91cd-8170a5b3c4ed",
   "metadata": {},
   "source": [
    "Podemos observar que el MAE es mucho **peor** cuando entrenamos usando **`ENGINESIZE`** que con **`FUELCONSUMPTION_COMB`**."
   ]
  },
  {
   "cell_type": "markdown",
   "id": "485121e5-1aa1-4533-88f7-fe7fc10cb957",
   "metadata": {},
   "source": [
    "### ¡Gracias por completar este laboratorio! 🎉\n",
    "\n",
    "---\n",
    "\n",
    "## Autor\n",
    "\n",
    "Saeed Aghabozorgi\n",
    "\n",
    "\n",
    "### Otros Contribuidores\n",
    "\n",
    "<a href=\"https://www.linkedin.com/in/joseph-s-50398b136/\" target=\"_blank\">Joseph Santarcangelo</a>\n",
    "\n",
    "Azim Hirjani\n",
    "\n",
    "### Traducción\n",
    "\n",
    "<a href=\"https://www.linkedin.com/in/carlostessier/\" target=\"_blank\">Carlos Tessier</a>\n",
    "\n",
    "## <h3 align=\"center\"> © Corporación IBM. Todos los derechos reservados. <h3/>\n",
    "\n"
   ]
  }
 ],
 "metadata": {
  "kernelspec": {
   "display_name": "Python 3",
   "language": "python",
   "name": "python3"
  },
  "language_info": {
   "codemirror_mode": {
    "name": "ipython",
    "version": 3
   },
   "file_extension": ".py",
   "mimetype": "text/x-python",
   "name": "python",
   "nbconvert_exporter": "python",
   "pygments_lexer": "ipython3",
   "version": "3.11.11"
  },
  "prev_pub_hash": "20d6dc1d9e74df451be22381c972d7921c93657bea402a00c749dca52bb85996"
 },
 "nbformat": 4,
 "nbformat_minor": 4
}
