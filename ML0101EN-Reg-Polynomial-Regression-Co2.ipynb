{
 "cells": [
  {
   "cell_type": "markdown",
   "id": "2e6762b5-6b8c-4ce9-ad41-92e4bcb6d8df",
   "metadata": {},
   "source": [
    "<p style=\"text-align:center\">\n",
    "    <a href=\"https://skills.network\" target=\"_blank\">\n",
    "    <img src=\"https://cf-courses-data.s3.us.cloud-object-storage.appdomain.cloud/assets/logos/SN_web_lightmode.png\" width=\"200\" alt=\"Skills Network Logo\">\n",
    "    </a>\n",
    "</p>\n",
    "\n",
    "\n",
    "# Regresión Polinómica\n",
    "\n",
    "Tiempo estimado: **15 minutos**\n",
    "\n",
    "## Objetivos\n",
    "\n",
    "Después de completar este laboratorio, podrás:\n",
    "\n",
    "* Usar **scikit-learn** para implementar una **Regresión Polinómica**.\n",
    "* Crear un modelo, entrenarlo, probarlo y utilizarlo.\n"
   ]
  },
  {
   "cell_type": "markdown",
   "id": "e618a869-5310-4ba0-b490-c8e579f93c1c",
   "metadata": {},
   "source": [
    "<h1>Tabla de contenidos</h1>\n",
    "\n",
    "<div class=\"alert alert-block alert-info\" style=\"margin-top: 20px\">\n",
    "    <ol>\n",
    "        <li><a href=\"#download_data\">Descarga de datos</a></li>\n",
    "        <li><a href=\"#polynomial_regression\">Regresión polinómica</a></li>\n",
    "        <li><a href=\"#evaluation\">Evaluación</a></li>\n",
    "        <li><a href=\"#practice\">Práctica</a></li>\n",
    "    </ol>\n",
    "</div>\n",
    "<br>\n",
    "<hr>\n"
   ]
  },
  {
   "cell_type": "markdown",
   "id": "392f7014-a344-431e-9b8d-64cc6f1b0ade",
   "metadata": {},
   "source": [
    "### Importación de los paquetes necesarios\n",
    "\n"
   ]
  },
  {
   "cell_type": "code",
   "execution_count": 1,
   "id": "bf6caec0-6da0-4325-b416-fe9c29afd1cb",
   "metadata": {},
   "outputs": [],
   "source": [
    "import matplotlib.pyplot as plt\n",
    "import pandas as pd\n",
    "import pylab as pl\n",
    "import numpy as np\n",
    "%matplotlib inline\n"
   ]
  },
  {
   "cell_type": "markdown",
   "id": "f6af5655-0d6a-408f-8120-6b173d4e9bc1",
   "metadata": {},
   "source": [
    "<h2 id=\"download_data\">Descarga de datos</h2>  \n",
    "\n",
    "Para descargar los datos, utilizaremos **!wget** para obtenerlos desde **IBM Object Storage**.\n"
   ]
  },
  {
   "cell_type": "code",
   "execution_count": 2,
   "id": "e1931ff3-e73f-4816-8dfb-e8ac5aac8c34",
   "metadata": {},
   "outputs": [
    {
     "name": "stdout",
     "output_type": "stream",
     "text": [
      "--2025-10-29 19:39:07--  https://cf-courses-data.s3.us.cloud-object-storage.appdomain.cloud/IBMDeveloperSkillsNetwork-ML0101EN-SkillsNetwork/labs/Module%202/data/FuelConsumptionCo2.csv\n",
      "Resolving cf-courses-data.s3.us.cloud-object-storage.appdomain.cloud (cf-courses-data.s3.us.cloud-object-storage.appdomain.cloud)... 169.63.118.104\n",
      "Connecting to cf-courses-data.s3.us.cloud-object-storage.appdomain.cloud (cf-courses-data.s3.us.cloud-object-storage.appdomain.cloud)|169.63.118.104|:443... connected.\n",
      "HTTP request sent, awaiting response... 200 OK\n",
      "Length: 72629 (71K) [text/csv]\n",
      "Saving to: ‘FuelConsumption.csv’\n",
      "\n",
      "FuelConsumption.csv 100%[===================>]  70.93K  --.-KB/s    in 0.09s   \n",
      "\n",
      "2025-10-29 19:39:08 (805 KB/s) - ‘FuelConsumption.csv’ saved [72629/72629]\n",
      "\n"
     ]
    }
   ],
   "source": [
    "!wget -O FuelConsumption.csv https://cf-courses-data.s3.us.cloud-object-storage.appdomain.cloud/IBMDeveloperSkillsNetwork-ML0101EN-SkillsNetwork/labs/Module%202/data/FuelConsumptionCo2.csv"
   ]
  },
  {
   "cell_type": "markdown",
   "id": "8e80841b-77f9-4bb2-b8b1-3497973e5e13",
   "metadata": {},
   "source": [
    "## Comprensión de los datos\n",
    "\n",
    "### `FuelConsumption.csv`\n",
    "\n",
    "Hemos descargado un conjunto de datos sobre el **consumo de combustible**, llamado **`FuelConsumption.csv`**, que contiene las valoraciones específicas por modelo sobre el consumo de combustible y las emisiones estimadas de dióxido de carbono de los nuevos vehículos ligeros a la venta en Canadá.\n",
    "📊 [Fuente del conjunto de datos](http://open.canada.ca/data/en/dataset/98f1a129-f628-4ce4-b24d-6f16bf24dd64)\n",
    "\n",
    "* **MODELYEAR** → Año del modelo, por ejemplo: *2014*\n",
    "* **MAKE** → Marca, por ejemplo: *Acura*\n",
    "* **MODEL** → Modelo, por ejemplo: *ILX*\n",
    "* **VEHICLE CLASS** → Clase de vehículo, por ejemplo: *SUV*\n",
    "* **ENGINE SIZE** → Tamaño del motor (L), por ejemplo: *4.7*\n",
    "* **CYLINDERS** → Número de cilindros, por ejemplo: *6*\n",
    "* **TRANSMISSION** → Tipo de transmisión, por ejemplo: *A6*\n",
    "* **FUEL CONSUMPTION in CITY (L/100 km)** → Consumo en ciudad, por ejemplo: *9.9*\n",
    "* **FUEL CONSUMPTION in HWY (L/100 km)** → Consumo en autopista, por ejemplo: *8.9*\n",
    "* **FUEL CONSUMPTION COMB (L/100 km)** → Consumo combinado, por ejemplo: *9.2*\n",
    "* **CO2 EMISSIONS (g/km)** → Emisiones de CO₂, por ejemplo: *182* → valores más bajos indican menores emisiones.\n"
   ]
  },
  {
   "cell_type": "markdown",
   "id": "01d4769f-560a-4fa4-98ed-1d3745686717",
   "metadata": {},
   "source": [
    "## Lectura de los datos\n"
   ]
  },
  {
   "cell_type": "code",
   "execution_count": 3,
   "id": "3f105bf0-8870-4df8-9cc7-a6e33c0d5383",
   "metadata": {},
   "outputs": [
    {
     "data": {
      "text/html": [
       "<div>\n",
       "<style scoped>\n",
       "    .dataframe tbody tr th:only-of-type {\n",
       "        vertical-align: middle;\n",
       "    }\n",
       "\n",
       "    .dataframe tbody tr th {\n",
       "        vertical-align: top;\n",
       "    }\n",
       "\n",
       "    .dataframe thead th {\n",
       "        text-align: right;\n",
       "    }\n",
       "</style>\n",
       "<table border=\"1\" class=\"dataframe\">\n",
       "  <thead>\n",
       "    <tr style=\"text-align: right;\">\n",
       "      <th></th>\n",
       "      <th>MODELYEAR</th>\n",
       "      <th>MAKE</th>\n",
       "      <th>MODEL</th>\n",
       "      <th>VEHICLECLASS</th>\n",
       "      <th>ENGINESIZE</th>\n",
       "      <th>CYLINDERS</th>\n",
       "      <th>TRANSMISSION</th>\n",
       "      <th>FUELTYPE</th>\n",
       "      <th>FUELCONSUMPTION_CITY</th>\n",
       "      <th>FUELCONSUMPTION_HWY</th>\n",
       "      <th>FUELCONSUMPTION_COMB</th>\n",
       "      <th>FUELCONSUMPTION_COMB_MPG</th>\n",
       "      <th>CO2EMISSIONS</th>\n",
       "    </tr>\n",
       "  </thead>\n",
       "  <tbody>\n",
       "    <tr>\n",
       "      <th>0</th>\n",
       "      <td>2014</td>\n",
       "      <td>ACURA</td>\n",
       "      <td>ILX</td>\n",
       "      <td>COMPACT</td>\n",
       "      <td>2.0</td>\n",
       "      <td>4</td>\n",
       "      <td>AS5</td>\n",
       "      <td>Z</td>\n",
       "      <td>9.9</td>\n",
       "      <td>6.7</td>\n",
       "      <td>8.5</td>\n",
       "      <td>33</td>\n",
       "      <td>196</td>\n",
       "    </tr>\n",
       "    <tr>\n",
       "      <th>1</th>\n",
       "      <td>2014</td>\n",
       "      <td>ACURA</td>\n",
       "      <td>ILX</td>\n",
       "      <td>COMPACT</td>\n",
       "      <td>2.4</td>\n",
       "      <td>4</td>\n",
       "      <td>M6</td>\n",
       "      <td>Z</td>\n",
       "      <td>11.2</td>\n",
       "      <td>7.7</td>\n",
       "      <td>9.6</td>\n",
       "      <td>29</td>\n",
       "      <td>221</td>\n",
       "    </tr>\n",
       "    <tr>\n",
       "      <th>2</th>\n",
       "      <td>2014</td>\n",
       "      <td>ACURA</td>\n",
       "      <td>ILX HYBRID</td>\n",
       "      <td>COMPACT</td>\n",
       "      <td>1.5</td>\n",
       "      <td>4</td>\n",
       "      <td>AV7</td>\n",
       "      <td>Z</td>\n",
       "      <td>6.0</td>\n",
       "      <td>5.8</td>\n",
       "      <td>5.9</td>\n",
       "      <td>48</td>\n",
       "      <td>136</td>\n",
       "    </tr>\n",
       "    <tr>\n",
       "      <th>3</th>\n",
       "      <td>2014</td>\n",
       "      <td>ACURA</td>\n",
       "      <td>MDX 4WD</td>\n",
       "      <td>SUV - SMALL</td>\n",
       "      <td>3.5</td>\n",
       "      <td>6</td>\n",
       "      <td>AS6</td>\n",
       "      <td>Z</td>\n",
       "      <td>12.7</td>\n",
       "      <td>9.1</td>\n",
       "      <td>11.1</td>\n",
       "      <td>25</td>\n",
       "      <td>255</td>\n",
       "    </tr>\n",
       "    <tr>\n",
       "      <th>4</th>\n",
       "      <td>2014</td>\n",
       "      <td>ACURA</td>\n",
       "      <td>RDX AWD</td>\n",
       "      <td>SUV - SMALL</td>\n",
       "      <td>3.5</td>\n",
       "      <td>6</td>\n",
       "      <td>AS6</td>\n",
       "      <td>Z</td>\n",
       "      <td>12.1</td>\n",
       "      <td>8.7</td>\n",
       "      <td>10.6</td>\n",
       "      <td>27</td>\n",
       "      <td>244</td>\n",
       "    </tr>\n",
       "  </tbody>\n",
       "</table>\n",
       "</div>"
      ],
      "text/plain": [
       "   MODELYEAR   MAKE       MODEL VEHICLECLASS  ENGINESIZE  CYLINDERS  \\\n",
       "0       2014  ACURA         ILX      COMPACT         2.0          4   \n",
       "1       2014  ACURA         ILX      COMPACT         2.4          4   \n",
       "2       2014  ACURA  ILX HYBRID      COMPACT         1.5          4   \n",
       "3       2014  ACURA     MDX 4WD  SUV - SMALL         3.5          6   \n",
       "4       2014  ACURA     RDX AWD  SUV - SMALL         3.5          6   \n",
       "\n",
       "  TRANSMISSION FUELTYPE  FUELCONSUMPTION_CITY  FUELCONSUMPTION_HWY  \\\n",
       "0          AS5        Z                   9.9                  6.7   \n",
       "1           M6        Z                  11.2                  7.7   \n",
       "2          AV7        Z                   6.0                  5.8   \n",
       "3          AS6        Z                  12.7                  9.1   \n",
       "4          AS6        Z                  12.1                  8.7   \n",
       "\n",
       "   FUELCONSUMPTION_COMB  FUELCONSUMPTION_COMB_MPG  CO2EMISSIONS  \n",
       "0                   8.5                        33           196  \n",
       "1                   9.6                        29           221  \n",
       "2                   5.9                        48           136  \n",
       "3                  11.1                        25           255  \n",
       "4                  10.6                        27           244  "
      ]
     },
     "execution_count": 3,
     "metadata": {},
     "output_type": "execute_result"
    }
   ],
   "source": [
    "df = pd.read_csv(\"FuelConsumption.csv\")\n",
    "\n",
    "# take a look at the dataset\n",
    "df.head()"
   ]
  },
  {
   "cell_type": "markdown",
   "id": "93280331-49b0-42a2-b311-6b249758130b",
   "metadata": {},
   "source": [
    "Vamos a seleccionar algunas características que queremos usar para realizar la regresión.\n"
   ]
  },
  {
   "cell_type": "code",
   "execution_count": 4,
   "id": "2c5f0bc6-c86f-4009-bf7b-bf2f20873e6a",
   "metadata": {},
   "outputs": [
    {
     "data": {
      "text/html": [
       "<div>\n",
       "<style scoped>\n",
       "    .dataframe tbody tr th:only-of-type {\n",
       "        vertical-align: middle;\n",
       "    }\n",
       "\n",
       "    .dataframe tbody tr th {\n",
       "        vertical-align: top;\n",
       "    }\n",
       "\n",
       "    .dataframe thead th {\n",
       "        text-align: right;\n",
       "    }\n",
       "</style>\n",
       "<table border=\"1\" class=\"dataframe\">\n",
       "  <thead>\n",
       "    <tr style=\"text-align: right;\">\n",
       "      <th></th>\n",
       "      <th>ENGINESIZE</th>\n",
       "      <th>CYLINDERS</th>\n",
       "      <th>FUELCONSUMPTION_COMB</th>\n",
       "      <th>CO2EMISSIONS</th>\n",
       "    </tr>\n",
       "  </thead>\n",
       "  <tbody>\n",
       "    <tr>\n",
       "      <th>0</th>\n",
       "      <td>2.0</td>\n",
       "      <td>4</td>\n",
       "      <td>8.5</td>\n",
       "      <td>196</td>\n",
       "    </tr>\n",
       "    <tr>\n",
       "      <th>1</th>\n",
       "      <td>2.4</td>\n",
       "      <td>4</td>\n",
       "      <td>9.6</td>\n",
       "      <td>221</td>\n",
       "    </tr>\n",
       "    <tr>\n",
       "      <th>2</th>\n",
       "      <td>1.5</td>\n",
       "      <td>4</td>\n",
       "      <td>5.9</td>\n",
       "      <td>136</td>\n",
       "    </tr>\n",
       "    <tr>\n",
       "      <th>3</th>\n",
       "      <td>3.5</td>\n",
       "      <td>6</td>\n",
       "      <td>11.1</td>\n",
       "      <td>255</td>\n",
       "    </tr>\n",
       "    <tr>\n",
       "      <th>4</th>\n",
       "      <td>3.5</td>\n",
       "      <td>6</td>\n",
       "      <td>10.6</td>\n",
       "      <td>244</td>\n",
       "    </tr>\n",
       "    <tr>\n",
       "      <th>5</th>\n",
       "      <td>3.5</td>\n",
       "      <td>6</td>\n",
       "      <td>10.0</td>\n",
       "      <td>230</td>\n",
       "    </tr>\n",
       "    <tr>\n",
       "      <th>6</th>\n",
       "      <td>3.5</td>\n",
       "      <td>6</td>\n",
       "      <td>10.1</td>\n",
       "      <td>232</td>\n",
       "    </tr>\n",
       "    <tr>\n",
       "      <th>7</th>\n",
       "      <td>3.7</td>\n",
       "      <td>6</td>\n",
       "      <td>11.1</td>\n",
       "      <td>255</td>\n",
       "    </tr>\n",
       "    <tr>\n",
       "      <th>8</th>\n",
       "      <td>3.7</td>\n",
       "      <td>6</td>\n",
       "      <td>11.6</td>\n",
       "      <td>267</td>\n",
       "    </tr>\n",
       "  </tbody>\n",
       "</table>\n",
       "</div>"
      ],
      "text/plain": [
       "   ENGINESIZE  CYLINDERS  FUELCONSUMPTION_COMB  CO2EMISSIONS\n",
       "0         2.0          4                   8.5           196\n",
       "1         2.4          4                   9.6           221\n",
       "2         1.5          4                   5.9           136\n",
       "3         3.5          6                  11.1           255\n",
       "4         3.5          6                  10.6           244\n",
       "5         3.5          6                  10.0           230\n",
       "6         3.5          6                  10.1           232\n",
       "7         3.7          6                  11.1           255\n",
       "8         3.7          6                  11.6           267"
      ]
     },
     "execution_count": 4,
     "metadata": {},
     "output_type": "execute_result"
    }
   ],
   "source": [
    "cdf = df[['ENGINESIZE','CYLINDERS','FUELCONSUMPTION_COMB','CO2EMISSIONS']]\n",
    "cdf.head(9)"
   ]
  },
  {
   "cell_type": "markdown",
   "id": "55ec7be8-812d-42d7-8dd7-c59aa947ac67",
   "metadata": {},
   "source": [
    "A continuación, representaremos los valores de **emisiones** en función del **tamaño del motor**:\n"
   ]
  },
  {
   "cell_type": "code",
   "execution_count": 5,
   "id": "d1f7a5f2-859c-4d08-b9ec-139174e33618",
   "metadata": {},
   "outputs": [
    {
     "data": {
      "image/png": "[encoded data removed]",
      "text/plain": [
       "<Figure size 640x480 with 1 Axes>"
      ]
     },
     "metadata": {},
     "output_type": "display_data"
    }
   ],
   "source": [
    "plt.scatter(cdf.ENGINESIZE, cdf.CO2EMISSIONS,  color='blue')\n",
    "plt.xlabel(\"Engine size\")\n",
    "plt.ylabel(\"Emission\")\n",
    "plt.show()"
   ]
  },
  {
   "cell_type": "markdown",
   "id": "aa3dbb2a-b254-495a-9c32-c25318dbf259",
   "metadata": {},
   "source": [
    "#### Creación del conjunto de entrenamiento y prueba\n",
    "\n",
    "La **división Train/Test** consiste en separar el conjunto de datos en dos subconjuntos:\n",
    "\n",
    "* **Conjunto de entrenamiento**, que se utiliza para ajustar (entrenar) el modelo.\n",
    "* **Conjunto de prueba**, que se usa posteriormente para evaluar el rendimiento del modelo.\n",
    "\n",
    "Ambos conjuntos son **mutuamente excluyentes** (no comparten datos)."
   ]
  },
  {
   "cell_type": "code",
   "execution_count": 6,
   "id": "041baf27-177d-43ac-86e8-aa8da671de60",
   "metadata": {},
   "outputs": [],
   "source": [
    "msk = np.random.rand(len(df)) < 0.8\n",
    "train = cdf[msk]\n",
    "test = cdf[~msk]"
   ]
  },
  {
   "cell_type": "markdown",
   "id": "4aba329a-721c-4191-b33d-d23f7c35e096",
   "metadata": {},
   "source": [
    "<h2 id=\"polynomial_regression\">Regresión polinómica</h2>\n"
   ]
  },
  {
   "cell_type": "markdown",
   "id": "650dc952-826f-4585-961d-c3ecf3fc0973",
   "metadata": {},
   "source": [
    "A veces, la tendencia de los datos no es lineal, sino **curva**.\n",
    "En estos casos, podemos utilizar **métodos de regresión polinómica**.\n",
    "\n",
    "De hecho, existen muchos tipos de regresiones que pueden ajustarse a la forma que tenga el conjunto de datos: cuadrática, cúbica, etc., y así sucesivamente hasta infinitos grados.\n",
    "\n",
    "En esencia, todas ellas se denominan **regresión polinómica**, donde la relación entre la variable independiente (x) y la variable dependiente (y) se modela como un **polinomio de grado n** en (x).\n",
    "\n",
    "Por ejemplo, si queremos realizar una **regresión polinómica de segundo grado**, la ecuación sería:\n",
    "\n",
    "$$y = b + \\theta_1 x + \\theta_2 x^2$$\n",
    "\n",
    "---\n",
    "\n",
    "Ahora bien, ¿cómo podemos ajustar nuestros datos a esta ecuación si solo tenemos los valores de (x), como por ejemplo **Engine Size** (tamaño del motor)?\n",
    "Podemos **crear nuevas características** derivadas de (x):\n",
    "1, (x) y (x^2).\n",
    "\n",
    "---\n",
    "\n",
    "La función **`PolynomialFeatures()`** de la librería **Scikit-learn** genera un nuevo conjunto de características a partir del original.\n",
    "Es decir, crea una **matriz con todas las combinaciones polinómicas** de las variables originales, hasta el grado especificado.\n",
    "\n",
    "Por ejemplo, si el conjunto de datos original tiene una sola característica, *ENGINESIZE*, y seleccionamos un **grado 2**, se generan tres características correspondientes a los grados 0, 1 y 2:"
   ]
  },
  {
   "cell_type": "code",
   "execution_count": 7,
   "id": "be8fb5a0-3b0b-4dd2-b38d-215c43d1da8b",
   "metadata": {},
   "outputs": [
    {
     "data": {
      "text/plain": [
       "array([[ 1.  ,  2.4 ,  5.76],\n",
       "       [ 1.  ,  1.5 ,  2.25],\n",
       "       [ 1.  ,  3.5 , 12.25],\n",
       "       ...,\n",
       "       [ 1.  ,  3.  ,  9.  ],\n",
       "       [ 1.  ,  3.2 , 10.24],\n",
       "       [ 1.  ,  3.2 , 10.24]])"
      ]
     },
     "execution_count": 7,
     "metadata": {},
     "output_type": "execute_result"
    }
   ],
   "source": [
    "from sklearn.preprocessing import PolynomialFeatures\n",
    "from sklearn import linear_model\n",
    "train_x = np.asanyarray(train[['ENGINESIZE']])\n",
    "train_y = np.asanyarray(train[['CO2EMISSIONS']])\n",
    "\n",
    "test_x = np.asanyarray(test[['ENGINESIZE']])\n",
    "test_y = np.asanyarray(test[['CO2EMISSIONS']])\n",
    "\n",
    "\n",
    "poly = PolynomialFeatures(degree=2)\n",
    "train_x_poly = poly.fit_transform(train_x)\n",
    "train_x_poly"
   ]
  },
  {
   "cell_type": "markdown",
   "id": "3487a10a-f2d0-4a17-93da-5b8397b03af9",
   "metadata": {},
   "source": [
    "**`fit_transform`** toma nuestros valores de (x) y devuelve una lista de datos elevados desde la potencia 0 hasta la potencia 2 (ya que el grado del polinomio se ha fijado en 2).\n",
    "\n",
    "La ecuación y un ejemplo se muestran a continuación:\n",
    "\n",
    "$$\n",
    "\\begin{bmatrix}\n",
    "v_1\\\\\\\n",
    "v_2\\\\\n",
    "\\vdots\\\\\n",
    "v_n\n",
    "\\end{bmatrix}\\longrightarrow \\begin{bmatrix}\n",
    "[ 1 & v_1 & v_1^2]\\\\\n",
    "[ 1 & v_2 & v_2^2]\\\\\n",
    "\\vdots & \\vdots & \\vdots\\\\\n",
    "[ 1 & v_n & v_n^2]\n",
    "\\end{bmatrix}\n",
    "$$\n",
    "\n",
    "$$\n",
    "\\begin{bmatrix}\n",
    "2.\\\\\n",
    "2.4\\\\\n",
    "1.5\\\\\n",
    "\\vdots\n",
    "\\end{bmatrix} \\longrightarrow \\begin{bmatrix}\n",
    "[ 1 & 2. & 4.]\\\\\n",
    "[ 1 & 2.4 & 5.76]\\\\\n",
    "[ 1 & 1.5 & 2.25]\\\\\n",
    "\\vdots & \\vdots & \\vdots\\\\\n",
    "\\end{bmatrix}\n",
    "$$\n"
   ]
  },
  {
   "cell_type": "markdown",
   "id": "7e8aea33-3093-43ec-b672-d87876c1934d",
   "metadata": {},
   "source": [
    "Parece un conjunto de características para un análisis de **regresión lineal múltiple**, ¿verdad?\n",
    "Sí, lo es.\n",
    "\n",
    "De hecho, la **regresión polinómica** es un **caso especial de la regresión lineal**, cuya principal diferencia radica en cómo seleccionamos las características.\n",
    "Si sustituimos (x) por (x_1) y (x^2) por (x_2), la ecuación de segundo grado se convierte en:\n",
    "\n",
    "$$y = b + \\theta_1 x_1 + \\theta_2 x_2$$\n",
    "\n",
    "De este modo, podemos tratar el problema como una **regresión lineal múltiple**.\n",
    "Por tanto, la regresión polinómica puede considerarse un **caso particular** de la regresión lineal tradicional, y puede resolverse **con los mismos mecanismos**.\n",
    "\n",
    "---\n",
    "\n",
    "Así que podemos utilizar la función **`LinearRegression()`** para resolverlo."
   ]
  },
  {
   "cell_type": "code",
   "execution_count": 8,
   "id": "c791a9c5-c04d-42c6-a969-2733b7e7efb5",
   "metadata": {},
   "outputs": [
    {
     "name": "stdout",
     "output_type": "stream",
     "text": [
      "Coefficients:  [[ 0.         52.54928822 -1.81280181]]\n",
      "Intercept:  [104.03481523]\n"
     ]
    }
   ],
   "source": [
    "clf = linear_model.LinearRegression()\n",
    "train_y_ = clf.fit(train_x_poly, train_y)\n",
    "# The coefficients\n",
    "print ('Coefficients: ', clf.coef_)\n",
    "print ('Intercept: ',clf.intercept_)"
   ]
  },
  {
   "cell_type": "markdown",
   "id": "2fc70f08-4833-4909-b248-1bca75dd98aa",
   "metadata": {},
   "source": [
    "Como se mencionó antes, el **coeficiente** y el **intercepto** son los parámetros de la curva ajustada.\n",
    "Dado que se trata de una regresión lineal múltiple típica, con tres parámetros, y sabiendo que estos son el intercepto y los coeficientes del hiperplano, **scikit-learn** los estima a partir de nuestro nuevo conjunto de características.\n",
    "A continuación, podemos representarlo gráficamente."
   ]
  },
  {
   "cell_type": "code",
   "execution_count": 9,
   "id": "024baf01-2cc6-4c84-aea6-eac7878503ee",
   "metadata": {},
   "outputs": [
    {
     "data": {
      "text/plain": [
       "Text(0, 0.5, 'Emission')"
      ]
     },
     "execution_count": 9,
     "metadata": {},
     "output_type": "execute_result"
    },
    {
     "data": {
      "image/png": "[encoded data removed]",
      "text/plain": [
       "<Figure size 640x480 with 1 Axes>"
      ]
     },
     "metadata": {},
     "output_type": "display_data"
    }
   ],
   "source": [
    "plt.scatter(train.ENGINESIZE, train.CO2EMISSIONS,  color='blue')\n",
    "XX = np.arange(0.0, 10.0, 0.1)\n",
    "yy = clf.intercept_[0]+ clf.coef_[0][1]*XX+ clf.coef_[0][2]*np.power(XX, 2)\n",
    "plt.plot(XX, yy, '-r' )\n",
    "plt.xlabel(\"Engine size\")\n",
    "plt.ylabel(\"Emission\")"
   ]
  },
  {
   "cell_type": "markdown",
   "id": "a34efe55-de31-4429-8a29-22ea5e53dfc7",
   "metadata": {},
   "source": [
    "<h2 id=\"evaluation\">Evaluación</h2>\n"
   ]
  },
  {
   "cell_type": "code",
   "execution_count": 10,
   "id": "147f62a3-ef21-4232-bcf3-06895af65885",
   "metadata": {},
   "outputs": [
    {
     "name": "stdout",
     "output_type": "stream",
     "text": [
      "Mean absolute error: 22.54\n",
      "Residual sum of squares (MSE): 829.51\n",
      "R2-score: 0.80\n"
     ]
    }
   ],
   "source": [
    "from sklearn.metrics import r2_score\n",
    "\n",
    "test_x_poly = poly.transform(test_x)\n",
    "test_y_ = clf.predict(test_x_poly)\n",
    "\n",
    "print(\"Mean absolute error: %.2f\" % np.mean(np.absolute(test_y_ - test_y)))\n",
    "print(\"Residual sum of squares (MSE): %.2f\" % np.mean((test_y_ - test_y) ** 2))\n",
    "print(\"R2-score: %.2f\" % r2_score(test_y,test_y_ ) )"
   ]
  },
  {
   "cell_type": "markdown",
   "id": "ed1a2376-423d-4865-a162-adfa3aa6c300",
   "metadata": {},
   "source": [
    "<h2 id=\"practice\">Práctica</h2>\n",
    "\n",
    "Prueba a realizar una **regresión polinómica** con el mismo conjunto de datos, pero esta vez con un **grado tres (cúbico)**.\n",
    "\n",
    "¿Obtienes una mejor precisión?\n"
   ]
  },
  {
   "cell_type": "code",
   "execution_count": null,
   "id": "44e40472-db2b-40b8-9154-9ca9c86665f6",
   "metadata": {},
   "outputs": [],
   "source": [
    "# Crear una transformación polinómica de grado 3\n",
    "# Esto amplía las características (x, x², x³) para permitir un ajuste no lineal\n",
    "\n",
    "# Aplicar la transformación a los datos de entrenamiento\n",
    "\n",
    "# Crear un modelo de regresión lineal (aunque se use con datos polinómicos)\n",
    "\n",
    "# Entrenar el modelo con los datos transformados\n",
    "# El modelo aprende los coeficientes para los términos x, x² y x³\n",
    "\n",
    "# Mostrar los coeficientes y el término independiente del modelo ajustado\n",
    "\n",
    "\n",
    "# Dibujar los puntos originales (tamaño del motor vs emisiones de CO₂)\n",
    "\n",
    "# Crear una secuencia de valores para el eje X (de 0.0 a 10.0 con paso 0.1)\n",
    "\n",
    "# Calcular la predicción del modelo polinómico para esos valores XX\n",
    "# (usando la ecuación: a0 + a1*x + a2*x² + a3*x³)\n",
    "\n",
    "\n",
    "# Dibujar la curva de ajuste (línea roja)\n",
    "\n",
    "\n",
    "# Transformar los datos de prueba con el mismo modelo polinómico\n",
    "\n",
    "# Obtener las predicciones del modelo sobre el conjunto de prueba\n",
    "\n",
    "# Calcular y mostrar las métricas de evaluación\n",
    "# MAE: error absoluto medio, MSE: error cuadrático medio, R²: calidad del ajuste\n",
    "\n"
   ]
  },
  {
   "cell_type": "code",
   "execution_count": null,
   "id": "587e67ef-13d6-4074-b453-a9cec18a1c7a",
   "metadata": {},
   "outputs": [],
   "source": []
  },
  {
   "cell_type": "markdown",
   "id": "8c8879bf-1012-49a8-89b3-7f26e6eaa711",
   "metadata": {},
   "source": [
    "<h2>¿Quieres aprender más?</h2>\n",
    "\n",
    "**IBM SPSS Modeler** es una completa plataforma de análisis que incluye numerosos algoritmos de aprendizaje automático.\n",
    "Está diseñada para incorporar inteligencia predictiva a las decisiones tomadas por individuos, equipos o sistemas dentro de una empresa.\n",
    "Puedes acceder a una **prueba gratuita** desde este curso:\n",
    "👉 [SPSS Modeler](https://www.ibm.com/analytics/spss-statistics-software?utm_source=skills_network&utm_content=in_lab_content_link&utm_id=Lab-IBMDeveloperSkillsNetwork-ML0101EN-SkillsNetwork)\n",
    "\n",
    "También puedes utilizar **Watson Studio** para ejecutar estos notebooks más rápido y con conjuntos de datos más grandes.\n",
    "Watson Studio es la principal solución en la nube de IBM para científicos de datos, desarrollada por científicos de datos.\n",
    "Incluye **Jupyter Notebooks**, **RStudio**, **Apache Spark** y las librerías más populares ya preinstaladas en la nube, lo que permite colaborar en proyectos sin necesidad de instalar nada.\n",
    "Únete a su comunidad con una cuenta gratuita en:\n",
    "👉 [Watson Studio](https://www.ibm.com/cloud/watson-studio?utm_source=skills_network&utm_content=in_lab_content_link&utm_id=Lab-IBMDeveloperSkillsNetwork-ML0101EN-SkillsNetwork)"
   ]
  },
  {
   "cell_type": "markdown",
   "id": "a944585d-72ba-4f20-a2d9-d0b1cbdc1970",
   "metadata": {},
   "source": [
    "### ¡Gracias por completar este laboratorio!\n",
    "\n",
    "## Autor\n",
    "\n",
    "**Saeed Aghabozorgi**\n",
    "\n",
    "### Otros colaboradores\n",
    "\n",
    "<a href=\"https://www.linkedin.com/in/joseph-s-50398b136/\" target=\"_blank\">Joseph Santarcangelo</a>\n",
    "\n",
    "### Traducción\n",
    "\n",
    "<a href=\"https://www.linkedin.com/in/carlostessier/\" target=\"_blank\">Carlos Tessier</a>\n",
    "\n",
    "---\n",
    "\n",
    "<h3 align=\"center\">© IBM Corporation 2025. Todos los derechos reservados.</h3>\n"
   ]
  },
  {
   "cell_type": "code",
   "execution_count": null,
   "id": "6720e322-2f87-4db4-a31c-380f8048b35d",
   "metadata": {},
   "outputs": [],
   "source": []
  }
 ],
 "metadata": {
  "kernelspec": {
   "display_name": "Python 3",
   "language": "python",
   "name": "python3"
  },
  "language_info": {
   "codemirror_mode": {
    "name": "ipython",
    "version": 3
   },
   "file_extension": ".py",
   "mimetype": "text/x-python",
   "name": "python",
   "nbconvert_exporter": "python",
   "pygments_lexer": "ipython3",
   "version": "3.11.11"
  },
  "prev_pub_hash": "4dc110debac287dfd374a575573c16e62a80a935b3bbe2b2f6d5a0598e6e33f6"
 },
 "nbformat": 4,
 "nbformat_minor": 4
}
