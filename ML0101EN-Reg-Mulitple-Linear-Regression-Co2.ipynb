{
 "cells": [
  {
   "cell_type": "markdown",
   "metadata": {},
   "source": [
    "<p style=\"text-align:center\">\n",
    "    <a href=\"https://skills.network\" target=\"_blank\">\n",
    "    <img src=\"https://cf-courses-data.s3.us.cloud-object-storage.appdomain.cloud/assets/logos/SN_web_lightmode.png\" width=\"200\" alt=\"Skills Network Logo\">\n",
    "    </a>\n",
    "</p>\n",
    "\n",
    "\n",
    "\n",
    "# Regresión Lineal Múltiple \n",
    "\n",
    "Tiempo estimado necesario: **15** minutos\n",
    "\n",
    "-----\n",
    "\n",
    "## Objetivos \n",
    "\n",
    "Tras completar este laboratorio, podrás:\n",
    "\n",
    "  * Utilizar scikit-learn para implementar la **Regresión Lineal Múltiple**.\n",
    "  * Crear un modelo, entrenarlo, probarlo y usar el modelo.\n",
    "\n"
   ]
  },
  {
   "cell_type": "markdown",
   "metadata": {},
   "source": [
    "<h1>Table of contents</h1>\n",
    "\n",
    "<div class=\"alert alert-block alert-info\" style=\"margin-top: 20px\">\n",
    "    <ol>\n",
    "        <li><a href=\"#understanding-data\">Entendiendo los Datos</a></li>\n",
    "        <li><a href=\"#reading_data\">Lectura de los Datos</a></li>\n",
    "        <li><a href=\"#multiple_regression_model\">Modelo de Regresión Múltiple</a></li>\n",
    "        <li><a href=\"#prediction\">Predicción</a></li>\n",
    "        <li><a href=\"#practice\">Práctica</a></li>\n",
    "    </ol>\n",
    "</div>\n",
    "<br>\n",
    "<hr>\n"
   ]
  },
  {
   "cell_type": "markdown",
   "metadata": {},
   "source": [
    "### Importación de los Paquetes Necesarios\n"
   ]
  },
  {
   "cell_type": "code",
   "execution_count": null,
   "metadata": {},
   "outputs": [],
   "source": [
    "import matplotlib.pyplot as plt\n",
    "import pandas as pd\n",
    "import pylab as pl\n",
    "import numpy as np\n",
    "%matplotlib inline"
   ]
  },
  {
   "cell_type": "markdown",
   "metadata": {},
   "source": [
    "### Descarga de Datos\n",
    "\n",
    "Para descargar los datos, utilizaremos `!wget` para bajarlos desde IBM Object Storage.\n"
   ]
  },
  {
   "cell_type": "code",
   "execution_count": null,
   "metadata": {},
   "outputs": [],
   "source": [
    "!wget -O FuelConsumption.csv https://cf-courses-data.s3.us.cloud-object-storage.appdomain.cloud/IBMDeveloperSkillsNetwork-ML0101EN-SkillsNetwork/labs/Module%202/data/FuelConsumptionCo2.csv"
   ]
  },
  {
   "cell_type": "markdown",
   "metadata": {},
   "source": [
    "\n",
    "<h2 id=\"understanding_data\">Entendiendo los Datos</h2>\n",
    "\n",
    "### `FuelConsumption.csv`:\n",
    "\n",
    "Hemos descargado un conjunto de datos de consumo de combustible, **`FuelConsumption.csv`**, que contiene clasificaciones de consumo de combustible específicas del modelo y emisiones estimadas de dióxido de carbono para vehículos nuevos de servicio liviano para la venta al por menor en Canadá. [Fuente del conjunto de datos](http://open.canada.ca/data/en/dataset/98f1a129-f628-4ce4-b24d-6f16bf24dd64)\n",
    "\n",
    "  * **MODELYEAR** (AÑO DEL MODELO) p.ej. 2014\n",
    "  * **MAKE** (MARCA) p.ej. Acura\n",
    "  * **MODEL** (MODELO) p.ej. ILX\n",
    "  * **VEHICLE CLASS** (CLASE DE VEHÍCULO) p.ej. SUV\n",
    "  * **ENGINE SIZE** (TAMAÑO DEL MOTOR) p.ej. 4.7\n",
    "  * **CYLINDERS** (CILINDROS) p.ej 6\n",
    "  * **TRANSMISSION** (TRANSMISIÓN) p.ej. A6\n",
    "  * **FUELTYPE** (TIPO DE COMBUSTIBLE) p.ej. z\n",
    "  * **FUEL CONSUMPTION in CITY(L/100 km)** (CONSUMO EN CIUDAD (L/100 km)) p.ej. 9.9\n",
    "  * **FUEL CONSUMPTION in HWY (L/100 km)** (CONSUMO EN CARRETERA (L/100 km)) p.ej. 8.9\n",
    "  * **FUEL CONSUMPTION COMB (L/100 km)** (CONSUMO COMBINADO (L/100 km)) p.ej. 9.2\n",
    "  * **CO2 EMISSIONS (g/km)** (EMISIONES DE CO2 (g/km)) p.ej. 182   --\\> bajo --\\> 0\n",
    "\n"
   ]
  },
  {
   "cell_type": "markdown",
   "metadata": {},
   "source": [
    "<h2 id=\"reading_data\">Lectura de los Datos</h2>\n"
   ]
  },
  {
   "cell_type": "code",
   "execution_count": null,
   "metadata": {},
   "outputs": [],
   "source": [
    "df = pd.read_csv(\"FuelConsumption.csv\")\n",
    "\n",
    "# take a look at the dataset\n",
    "df.head()"
   ]
  },
  {
   "cell_type": "markdown",
   "metadata": {},
   "source": [
    "Seleccionemos algunas características que queremos usar para la regresión.\n"
   ]
  },
  {
   "cell_type": "code",
   "execution_count": null,
   "metadata": {},
   "outputs": [],
   "source": [
    "cdf = df[['ENGINESIZE','CYLINDERS','FUELCONSUMPTION_CITY','FUELCONSUMPTION_HWY','FUELCONSUMPTION_COMB','CO2EMISSIONS']]\n",
    "cdf.head(9)"
   ]
  },
  {
   "cell_type": "markdown",
   "metadata": {},
   "source": [
    "Grafiquemos los valores de Emisión con respecto al tamaño del motor:\n"
   ]
  },
  {
   "cell_type": "code",
   "execution_count": null,
   "metadata": {},
   "outputs": [],
   "source": [
    "plt.scatter(cdf.ENGINESIZE, cdf.CO2EMISSIONS,  color='blue')\n",
    "plt.xlabel(\"Engine size\")\n",
    "plt.ylabel(\"Emission\")\n",
    "plt.show()"
   ]
  },
  {
   "cell_type": "markdown",
   "metadata": {},
   "source": [
    "#### Creación del Conjunto de Datos de Entrenamiento y Prueba\n",
    "\n",
    "La División de Entrenamiento/Prueba (*Train/Test Split*) implica dividir el conjunto de datos en conjuntos de entrenamiento y prueba respectivamente, que son **mutuamente excluyentes**. Después, se entrena con el conjunto de entrenamiento y se prueba con el conjunto de prueba.\n",
    "Esto proporcionará una evaluación más precisa de la **precisión fuera de la muestra** (*out-of-sample accuracy*), ya que el conjunto de datos de prueba no forma parte del conjunto de datos que se ha utilizado para entrenar el modelo. Por lo tanto, nos da una mejor comprensión de qué tan bien nuestro modelo **generaliza** a nuevos datos.\n",
    "\n",
    "Conocemos el resultado de cada punto de datos en el conjunto de prueba, ¡lo que lo hace ideal para probar\\! Dado que estos datos no se han utilizado para entrenar el modelo, el modelo no tiene conocimiento del resultado de estos puntos de datos. Así que, en esencia, es verdaderamente una prueba fuera de la muestra.\n",
    "\n",
    "Dividamos nuestro conjunto de datos en conjuntos de entrenamiento y prueba. Alrededor del **80%** del conjunto de datos completo se utilizará para el entrenamiento y el **20%** para las pruebas. Creamos una máscara para seleccionar filas aleatorias utilizando la función **`np.random.rand()`**:\n"
   ]
  },
  {
   "cell_type": "code",
   "execution_count": null,
   "metadata": {},
   "outputs": [],
   "source": [
    "msk = np.random.rand(len(df)) < 0.8\n",
    "train = cdf[msk]\n",
    "test = cdf[~msk]"
   ]
  },
  {
   "cell_type": "markdown",
   "metadata": {},
   "source": [
    "#### Distribución de los Datos de Entrenamiento\n"
   ]
  },
  {
   "cell_type": "code",
   "execution_count": null,
   "metadata": {},
   "outputs": [],
   "source": [
    "plt.scatter(train.ENGINESIZE, train.CO2EMISSIONS,  color='blue')\n",
    "plt.xlabel(\"Engine size\")\n",
    "plt.ylabel(\"Emission\")\n",
    "plt.show()"
   ]
  },
  {
   "cell_type": "markdown",
   "metadata": {},
   "source": [
    "<h2 id=\"multiple_regression_model\">Modelo de Regresión Múltiple</h2>\n"
   ]
  },
  {
   "cell_type": "markdown",
   "metadata": {},
   "source": [
    "En realidad, existen múltiples variables que impactan la emisión de CO2. Cuando está presente **más de una variable independiente**, el proceso se denomina **Regresión Lineal Múltiple**. Un ejemplo de regresión lineal múltiple es predecir la emisión de CO2 utilizando las características **FUELCONSUMPTION\\_COMB**, **EngineSize** y **Cylinders** de los coches. Lo bueno aquí es que el modelo de regresión lineal múltiple es la extensión del modelo de regresión lineal simple.\n"
   ]
  },
  {
   "cell_type": "code",
   "execution_count": null,
   "metadata": {},
   "outputs": [],
   "source": [
    "from sklearn import linear_model\n",
    "regr = linear_model.LinearRegression()\n",
    "x = np.asanyarray(train[['ENGINESIZE','CYLINDERS','FUELCONSUMPTION_COMB']])\n",
    "y = np.asanyarray(train[['CO2EMISSIONS']])\n",
    "regr.fit (x, y)\n",
    "# The coefficients\n",
    "print ('Coefficients: ', regr.coef_)"
   ]
  },
  {
   "cell_type": "markdown",
   "metadata": {},
   "source": [
    "Como se mencionó antes, el **Coeficiente** y el **Intercepto** son los parámetros de la línea ajustada.\n",
    "Dado que es un modelo de regresión lineal múltiple con 3 parámetros y que los parámetros son el intercepto y los coeficientes del hiperplano, sklearn puede estimarlos a partir de nuestros datos. Scikit-learn utiliza el método simple de **Mínimos Cuadrados Ordinarios (OLS)** para resolver este problema.\n",
    "\n",
    "#### Mínimos Cuadrados Ordinarios (OLS)\n",
    "\n",
    "OLS es un método para estimar los parámetros desconocidos en un modelo de regresión lineal. OLS elige los parámetros de una función lineal de un conjunto de variables explicativas **minimizando la suma de los cuadrados de las diferencias** entre la variable dependiente objetivo y las predichas por la función lineal. En otras palabras, intenta minimizar la Suma de Errores Cuadrados (**SSE**) o el Error Cuadrático Medio (**MSE**) entre la variable objetivo ($y$) y nuestra salida predicha ($\\hat{y}$) sobre todas las muestras en el conjunto de datos.\n",
    "\n",
    "OLS puede encontrar los mejores parámetros utilizando uno de los siguientes métodos:\n",
    "\n",
    "  * Resolver los parámetros del modelo analíticamente utilizando ecuaciones de **forma cerrada**.\n",
    "  * Utilizar un **algoritmo de optimización** (Descenso de Gradiente, Descenso de Gradiente Estocástico, Método de Newton, etc.).\n"
   ]
  },
  {
   "cell_type": "markdown",
   "metadata": {},
   "source": [
    "<h2 id=\"prediction\">Predicción</h2>\n"
   ]
  },
  {
   "cell_type": "code",
   "execution_count": null,
   "metadata": {},
   "outputs": [],
   "source": [
    "y_hat= regr.predict(test[['ENGINESIZE','CYLINDERS','FUELCONSUMPTION_COMB']])\n",
    "x = np.asanyarray(test[['ENGINESIZE','CYLINDERS','FUELCONSUMPTION_COMB']])\n",
    "y = np.asanyarray(test[['CO2EMISSIONS']])\n",
    "print(\"Mean Squared Error (MSE) : %.2f\"\n",
    "      % np.mean((y_hat - y) ** 2))\n",
    "\n",
    "# Explained variance score: 1 is perfect prediction\n",
    "print('Variance score: %.2f' % regr.score(x, y))"
   ]
  },
  {
   "cell_type": "markdown",
   "metadata": {},
   "source": [
    "**Puntuación de Regresión de Varianza Explicada:**\n",
    "Sea $\\hat{y}$ el resultado objetivo estimado, $y$ el resultado objetivo correspondiente (correcto), y $Var$ la Varianza (el cuadrado de la desviación estándar). Entonces, la varianza explicada se estima de la siguiente manera:\n",
    "\n",
    "$$\\texttt{explainedVariance}(y, \\hat{y}) = 1 - \\frac{Var\\{ y - \\hat{y}\\}}{Var\\{y\\}}$$\n",
    "\n",
    "La mejor puntuación posible es **1.0**, y los valores más bajos son peores.\n"
   ]
  },
  {
   "cell_type": "markdown",
   "metadata": {},
   "source": [
    "<h2 id=\"practice\">Practica</h2>\n",
    "\n",
    "Intenta usar una regresión lineal múltiple con el mismo conjunto de datos, pero esta vez usa **FUELCONSUMPTION_CITY** y **FUELCONSUMPTION_HWY** en lugar de **FUELCONSUMPTION_COMB**. \n",
    "\n",
    "¿Resulta en una mejor precisión?"
   ]
  },
  {
   "cell_type": "code",
   "execution_count": null,
   "metadata": {},
   "outputs": [],
   "source": [
    "# Importa el modelo de regresión lineal desde scikit-learn\n",
    "\n",
    "# Selecciona las columnas que usarás como variables independientes (X) del conjunto de entrenamiento.\n",
    "# asegúrate de que las columnas existen en el DataFrame 'train' y que están bien escritas.\n",
    "\n",
    "# Selecciona la variable dependiente (Y), es decir, el valor que queremos predecir: las emisiones de CO2.\n",
    "\n",
    "# Entrena el modelo con los datos de entrenamiento (ajusta los coeficientes).\n",
    "\n",
    "# Muestra los coeficientes obtenidos tras el entrenamiento.\n",
    "# cada número indica cuánto influye cada variable (motor, cilindros, consumo...) en las emisiones.\n",
    "\n",
    "# Realiza predicciones con el conjunto de prueba usando las mismas variables independientes.\n",
    "# cambia las columnas si tu conjunto de datos tiene nombres diferentes.\n",
    "\n",
    "# Extrae las variables reales (X e Y) del conjunto de prueba para poder evaluar el modelo.\n",
    "\n",
    "# Calcula el error cuadrático medio (MSE), una medida de la precisión del modelo.\n",
    "# cuanto menor sea este valor, mejor es el ajuste.\n",
    "\n",
    "# Calcula el coeficiente de determinación R² (score del modelo).\n",
    "#  un valor cercano a 1 indica que el modelo explica bien la variabilidad de los datos.\n",
    "\n"
   ]
  },
  {
   "cell_type": "markdown",
   "metadata": {},
   "source": [
    "### ¡Gracias por completar este laboratorio! 🎉\n",
    "\n",
    "## Autor\n",
    "\n",
    "Saeed Aghabozorgi\n",
    "\n",
    "### Otros Contribuidores\n",
    "\n",
    "<a href=\"https://www.linkedin.com/in/joseph-s-50398b136/\" target=\"_blank\">Joseph Santarcangelo</a>\n",
    "\n",
    "### Traducción\n",
    "\n",
    "<a href=\"https://www.linkedin.com/in/carlostessier/\" target=\"_blank\">Carlos Tessier</a>\n",
    "\n",
    " \n",
    "\n",
    "## <h3 align=\"center\"> © Corporación IBM 2025. Todos los derechos reservados. <h3/>"
   ]
  }
 ],
 "metadata": {
  "kernelspec": {
   "display_name": "Python 3",
   "language": "python",
   "name": "python3"
  },
  "language_info": {
   "codemirror_mode": {
    "name": "ipython",
    "version": 3
   },
   "file_extension": ".py",
   "mimetype": "text/x-python",
   "name": "python",
   "nbconvert_exporter": "python",
   "pygments_lexer": "ipython3",
   "version": "3.11.11"
  },
  "prev_pub_hash": "c1170d4cb1c9bbce7dbbef74b645fc6b265a5aaf4ce89c4ac861feed8769ed99"
 },
 "nbformat": 4,
 "nbformat_minor": 4
}
